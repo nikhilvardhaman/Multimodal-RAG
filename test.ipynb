{
 "cells": [
  {
   "cell_type": "code",
   "execution_count": 1,
   "id": "9fc8fd2e",
   "metadata": {},
   "outputs": [
    {
     "name": "stdout",
     "output_type": "stream",
     "text": [
      "✅ Image exists: static\\extracted_images\\page_1_img_1.png\n"
     ]
    }
   ],
   "source": [
    "import os\n",
    "\n",
    "image_path = os.path.join(\"static\", \"extracted_images\", \"page_1_img_1.png\")\n",
    "\n",
    "if os.path.exists(image_path):\n",
    "    print(\"✅ Image exists:\", image_path)\n",
    "else:\n",
    "    print(\"❌ Image NOT found:\", image_path)\n"
   ]
  }
 ],
 "metadata": {
  "kernelspec": {
   "display_name": "Python 3",
   "language": "python",
   "name": "python3"
  },
  "language_info": {
   "codemirror_mode": {
    "name": "ipython",
    "version": 3
   },
   "file_extension": ".py",
   "mimetype": "text/x-python",
   "name": "python",
   "nbconvert_exporter": "python",
   "pygments_lexer": "ipython3",
   "version": "3.11.11"
  }
 },
 "nbformat": 4,
 "nbformat_minor": 5
}
